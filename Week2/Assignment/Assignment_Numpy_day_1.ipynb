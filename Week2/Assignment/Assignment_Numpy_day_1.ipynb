{
  "nbformat": 4,
  "nbformat_minor": 0,
  "metadata": {
    "colab": {
      "name": "Assignment Numpy day-1.ipynb",
      "provenance": [],
      "include_colab_link": true
    },
    "kernelspec": {
      "name": "python3",
      "display_name": "Python 3"
    },
    "language_info": {
      "name": "python"
    }
  },
  "cells": [
    {
      "cell_type": "markdown",
      "metadata": {
        "id": "view-in-github",
        "colab_type": "text"
      },
      "source": [
        "<a href=\"https://colab.research.google.com/github/nespina/AIandDataScienceWorkshopwithPython/blob/main/Week2/Assignment/Assignment_Numpy_day_1.ipynb\" target=\"_parent\"><img src=\"https://colab.research.google.com/assets/colab-badge.svg\" alt=\"Open In Colab\"/></a>"
      ]
    },
    {
      "cell_type": "markdown",
      "metadata": {
        "id": "WUjqhjl2MJsP"
      },
      "source": [
        "#AI and Data Science Workshop with Python\n",
        "Introduction to Numpy\n",
        "\n",
        "\n",
        "Assignment 01"
      ]
    },
    {
      "cell_type": "markdown",
      "metadata": {
        "id": "UUsSijrpMuic"
      },
      "source": [
        "\n",
        "1- Create a NumPy array and test whether any elements of the array are non-zero\n",
        "a sample output can be like this:\n",
        "```\n",
        "[1 2 3 4]\n",
        "True\n",
        "[0 1 2 3]\n",
        "False\n",
        "```"
      ]
    },
    {
      "cell_type": "code",
      "metadata": {
        "colab": {
          "base_uri": "https://localhost:8080/"
        },
        "id": "0BDFbP-o7uXG",
        "outputId": "856d3d28-5409-4ab8-ddde-d53e1057b1e1"
      },
      "source": [
        "import numpy as np\n",
        "a = np.arange (1,5)\n",
        "print (a)\n",
        "print(np.all(a)) \n",
        "b = np.arange(4)\n",
        "print(b)\n",
        "print(np.all(b))\n",
        "#any (any are nonzero)\n",
        "#all (all are nonzero)"
      ],
      "execution_count": 3,
      "outputs": [
        {
          "output_type": "stream",
          "text": [
            "[1 2 3 4]\n",
            "True\n",
            "[0 1 2 3]\n",
            "False\n"
          ],
          "name": "stdout"
        }
      ]
    },
    {
      "cell_type": "code",
      "metadata": {
        "id": "yAuvlhel3YtM",
        "outputId": "5398c901-f33d-4729-80dd-4761581ec7d1",
        "colab": {
          "base_uri": "https://localhost:8080/"
        }
      },
      "source": [
        "a= np.array([0,0,0,0])\n",
        "print(np.any(a))\n"
      ],
      "execution_count": 5,
      "outputs": [
        {
          "output_type": "stream",
          "text": [
            "False\n"
          ],
          "name": "stdout"
        }
      ]
    },
    {
      "cell_type": "markdown",
      "metadata": {
        "id": "LjPXpTX24746"
      },
      "source": [
        ""
      ]
    },
    {
      "cell_type": "code",
      "metadata": {
        "id": "2vD5Rqk93oX2",
        "outputId": "e2714495-78dd-4e04-b565-698c1fbbebef",
        "colab": {
          "base_uri": "https://localhost:8080/"
        }
      },
      "source": [
        "a= np.array([0,0,0,3])\n",
        "print (np.any(a))"
      ],
      "execution_count": 6,
      "outputs": [
        {
          "output_type": "stream",
          "text": [
            "True\n"
          ],
          "name": "stdout"
        }
      ]
    },
    {
      "cell_type": "code",
      "metadata": {
        "id": "acIssUL24fMq",
        "outputId": "acd00869-85ad-40b8-ce9f-6f26d593569f",
        "colab": {
          "base_uri": "https://localhost:8080/"
        }
      },
      "source": [
        "b= np.array([2,3,4])\n",
        "print(np.isin(8,b))\n",
        "print(np.isin(4,b))"
      ],
      "execution_count": 8,
      "outputs": [
        {
          "output_type": "stream",
          "text": [
            "False\n",
            "True\n"
          ],
          "name": "stdout"
        }
      ]
    },
    {
      "cell_type": "markdown",
      "metadata": {
        "id": "2DHGa-Rhj1G-"
      },
      "source": [
        "2- Create a NumPy array of integer in range of 30 to 70\n",
        "the result can be as follow:\n",
        "```\n",
        "Array of the integers from 30 to70\n",
        "[30 31 32 33 34 35 36 37 38 39 40 41 42 43 44 45 46 47 48 49 50 51 52 53\n",
        " 54 55 56 57 58 59 60 61 62 63 64 65 66 67 68 69 70]\n",
        " ```\n"
      ]
    },
    {
      "cell_type": "code",
      "metadata": {
        "colab": {
          "base_uri": "https://localhost:8080/"
        },
        "id": "vLopAbM0HcTl",
        "outputId": "fdd353c7-b8df-48b4-f1eb-7d3851ee51ae"
      },
      "source": [
        "print (\"Array of the intergers from 30 to 70\") \n",
        "print(np.arange(30,71))"
      ],
      "execution_count": 41,
      "outputs": [
        {
          "output_type": "stream",
          "text": [
            "Array of the intergers from 30 to 70\n",
            "[30 31 32 33 34 35 36 37 38 39 40 41 42 43 44 45 46 47 48 49 50 51 52 53\n",
            " 54 55 56 57 58 59 60 61 62 63 64 65 66 67 68 69 70]\n"
          ],
          "name": "stdout"
        }
      ]
    },
    {
      "cell_type": "markdown",
      "metadata": {
        "id": "QapxBIjjcuAS"
      },
      "source": [
        "3- Create two NumPy array with the same number of elements and compare them to see if their elements are equal. you can use `equal()` function\n",
        "\n",
        "A sample result can be as follow:\n",
        "Original numbers:\n",
        "```\n",
        "[ 12  43  56  14  67  -1 120 -12  60  10]\n",
        "[ 12.        43.        56.        14.        67.        -1.\n",
        " 120.       -12.        60.        10.000001]\n",
        "Comparison - equal:\n",
        "[ True  True  True  True  True  True  True  True  True False]\n",
        "```"
      ]
    },
    {
      "cell_type": "code",
      "metadata": {
        "colab": {
          "base_uri": "https://localhost:8080/"
        },
        "id": "C1ob3-5xHwjV",
        "outputId": "84bc86d1-70db-4936-b334-b02c8aab684b"
      },
      "source": [
        "b= np.array([12,43,56,14,67,-1,120,-12,60,10])\n",
        "print (b)\n",
        "c= [12,43,56,14,67,-1,120,-12,60,10.000001]\n",
        "print(np.asanyarray (c))\n",
        "print(\"Comparison -equal:\")\n",
        "print(np.equal(b,c))"
      ],
      "execution_count": 40,
      "outputs": [
        {
          "output_type": "stream",
          "text": [
            "[ 12  43  56  14  67  -1 120 -12  60  10]\n",
            "[ 12.        43.        56.        14.        67.        -1.\n",
            " 120.       -12.        60.        10.000001]\n",
            "Comparison -equal:\n",
            "[ True  True  True  True  True  True  True  True  True False]\n"
          ],
          "name": "stdout"
        }
      ]
    },
    {
      "cell_type": "code",
      "metadata": {
        "colab": {
          "base_uri": "https://localhost:8080/"
        },
        "id": "lBXCtWxm5xXe",
        "outputId": "ef3112d2-201e-4ee8-c9c4-37d0246c507e"
      },
      "source": [
        "#reshape to 3 rows and 2 columns\n",
        "#reshaping\n",
        "a = np.arange(6).reshape((3, 2))\n",
        "print(a)"
      ],
      "execution_count": null,
      "outputs": [
        {
          "output_type": "stream",
          "text": [
            "[[0 1]\n",
            " [2 3]\n",
            " [4 5]]\n"
          ],
          "name": "stdout"
        }
      ]
    },
    {
      "cell_type": "markdown",
      "metadata": {
        "id": "_WbEqu_ckWof"
      },
      "source": [
        "4- Write a NumPy program to create a 3X4 array and iterate over it to print the items"
      ]
    },
    {
      "cell_type": "code",
      "metadata": {
        "colab": {
          "base_uri": "https://localhost:8080/"
        },
        "id": "-KiR5pSLM3RA",
        "outputId": "a8bde0b0-c8c1-416f-b58c-a5e7f2b591bb"
      },
      "source": [
        "arr = np.array([[1, 1,1,1], [2, 2,2,2], [3,3,3, 3]])\n",
        "for x in arr:\n",
        "  print(x)"
      ],
      "execution_count": 52,
      "outputs": [
        {
          "output_type": "stream",
          "text": [
            "[1 1 1 1]\n",
            "[2 2 2 2]\n",
            "[3 3 3 3]\n"
          ],
          "name": "stdout"
        }
      ]
    },
    {
      "cell_type": "markdown",
      "metadata": {
        "id": "LgzWSvAHmUVE"
      },
      "source": [
        "5- Using NumPy, create a 4x5 matrix filled with values from 1 to 20"
      ]
    },
    {
      "cell_type": "code",
      "metadata": {
        "colab": {
          "base_uri": "https://localhost:8080/"
        },
        "id": "zKLGEEJiO-1_",
        "outputId": "de2f584e-67ec-4342-b394-1915dd47d225"
      },
      "source": [
        "n= np.arange (1,21).reshape ((4,5))\n",
        "print(n)"
      ],
      "execution_count": 53,
      "outputs": [
        {
          "output_type": "stream",
          "text": [
            "[[ 1  2  3  4  5]\n",
            " [ 6  7  8  9 10]\n",
            " [11 12 13 14 15]\n",
            " [16 17 18 19 20]]\n"
          ],
          "name": "stdout"
        }
      ]
    },
    {
      "cell_type": "markdown",
      "metadata": {
        "id": "Q29xxMw9z7tw"
      },
      "source": [
        "6- We have created a matrix of size 5x4 as follow:"
      ]
    },
    {
      "cell_type": "code",
      "metadata": {
        "id": "6drPPEK3z6kJ"
      },
      "source": [
        "import numpy as np\n",
        "sizes = np.array(\n",
        "[[2,  8, 8, 3],\n",
        "[6,  13, 1, 6],\n",
        "[9,  5, 3, 7],\n",
        "[3,  22, 9, 2],\n",
        "[12, 7, 2, 9]])"
      ],
      "execution_count": 10,
      "outputs": []
    },
    {
      "cell_type": "markdown",
      "metadata": {
        "id": "dS1kxD5z1ZBY"
      },
      "source": [
        "Write a NumPy code that retrieves the last column of sizes matrix:"
      ]
    },
    {
      "cell_type": "code",
      "metadata": {
        "colab": {
          "base_uri": "https://localhost:8080/"
        },
        "id": "RL5JD7EJEkQ0",
        "outputId": "21964c8e-acba-4426-fde4-f7df7fea015a"
      },
      "source": [
        "print(sizes[:, 3])"
      ],
      "execution_count": 3,
      "outputs": [
        {
          "output_type": "stream",
          "text": [
            "[3 6 7 2 9]\n"
          ],
          "name": "stdout"
        }
      ]
    },
    {
      "cell_type": "markdown",
      "metadata": {
        "id": "ueGQkIKq1pOi"
      },
      "source": [
        "Write a Numpy code that retrieves the following submatrix from `sizes`:\n",
        "\n",
        "```\n",
        "array([[13,  1],\n",
        "       [ 5,  3]])\n",
        "```"
      ]
    },
    {
      "cell_type": "code",
      "metadata": {
        "colab": {
          "base_uri": "https://localhost:8080/"
        },
        "id": "PpAi_ZRvGCb3",
        "outputId": "060db6ee-fe5b-4da4-8138-cfe116a6c6f4"
      },
      "source": [
        "#sizes[[1,1],[1,2]],sizes[[2,2],[2,2]]\n",
        "#sizes[np.ix_([1,2],[1,2])]\n",
        "sizes[1:3,1:3]"
      ],
      "execution_count": 11,
      "outputs": [
        {
          "output_type": "execute_result",
          "data": {
            "text/plain": [
              "array([[13,  1],\n",
              "       [ 5,  3]])"
            ]
          },
          "metadata": {},
          "execution_count": 11
        }
      ]
    },
    {
      "cell_type": "markdown",
      "metadata": {
        "id": "2o5rFIkV8bEm"
      },
      "source": [
        "Write a NumPy program that in result create an array containing such items of the sizes matrix, which are greater than 10"
      ]
    },
    {
      "cell_type": "code",
      "metadata": {
        "colab": {
          "base_uri": "https://localhost:8080/"
        },
        "id": "TwKeIOcJTHRp",
        "outputId": "1d1e653b-0731-4a8b-9291-49c383a3d9b9"
      },
      "source": [
        "#print (sizes)\n",
        "sizes[sizes>10]"
      ],
      "execution_count": 43,
      "outputs": [
        {
          "output_type": "execute_result",
          "data": {
            "text/plain": [
              "array([13, 22, 12])"
            ]
          },
          "metadata": {},
          "execution_count": 43
        }
      ]
    }
  ]
}